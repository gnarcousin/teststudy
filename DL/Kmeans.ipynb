!wget https://bit.ly/fruits_300_data -O fruits_300.npy

import numpy as np
import matplotlib.pyplot as plt
from sklearn.cluster import KMeans
from sklearn import metrics
import seaborn as sns

fruits = np.load('fruits_300.npy') #fruits 데이터 불러오기
fruits_2d = fruits.reshape(-1, 100 * 100) #fruits를 2차원 데이터로 변형

km = KMeans(n_clusters=3, random_state = 42) #Kmeans 함수를 사용해 모델 생성
km.fit(fruits_2d) #모델 학습

def draw_fruits(arr, ratio = 1): # 출력을 위한 함수 설정
  n = len(arr) #배열 개수 세기
  rows = int(np.ceil(n/10)) #출력할 행 개수 설정
  cols = n if rows < 2 else 10 #출력할 열 개수 설정
  fig, axs = plt.subplots(rows, cols,
                          figsize = (cols * ratio, rows * ratio), squeeze = False) # 그래프 배경 생성
  for i in range(rows):
    for j in range(cols):
      if i * 10 + j < n:
        axs[i, j].imshow(arr[i * 10 + j], cmap='gray_r')
      axs[i, j].axis('off')
  plt.show()

draw_fruits(fruits[km.labels_==0]) #km.labels_가 0인 값을 지닌 fruits 출력
draw_fruits(fruits[km.labels_==1]) #km.labels_가 1인 값을 지닌 fruits 출력
draw_fruits(fruits[km.labels_==2]) #km.labels_가 2인 값을 지닌 fruits 출력

km.labels_ #confusion matrix를 위한 km.labels 모양 확인

Y_test = [2] * 100 + [0] * 100 + [1] * 100 #Y_test 데이터 생성, km.labels의 순서에 맞춰서

CM = metrics.confusion_matrix(Y_test, km.labels_) #Confusion_Matrix 생성
accuracy = metrics.accuracy_score(Y_test, km.labels_) #Accuracy(정확도) 값 생성
precision = metrics.precision_score(Y_test, km.labels_, average = 'macro') #Precision(정밀도) 값 생성
recall = metrics.recall_score(Y_test, km.labels_, average = 'macro') #Recall(재현율) 값 생성
f1 = metrics.f1_score(Y_test, km.labels_, average = 'macro') #F1 점수 값 생성

sns.heatmap(CM, annot = True, fmt = 'd', cmap = 'Blues')
print("정확도: ", accuracy)
print("정밀도: ", precision)
print("재현도: ",recall)
print("F1 점수: ", f1)
